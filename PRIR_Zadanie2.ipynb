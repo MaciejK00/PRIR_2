{
  "nbformat": 4,
  "nbformat_minor": 0,
  "metadata": {
    "colab": {
      "provenance": []
    },
    "kernelspec": {
      "name": "python3",
      "display_name": "Python 3"
    },
    "language_info": {
      "name": "python"
    }
  },
  "cells": [
    {
      "cell_type": "code",
      "execution_count": 6,
      "metadata": {
        "colab": {
          "base_uri": "https://localhost:8080/"
        },
        "id": "rdh3d_vBVyY8",
        "outputId": "357d758f-d100-49d1-bf59-0d465d5f5903"
      },
      "outputs": [
        {
          "output_type": "stream",
          "name": "stdout",
          "text": [
            "Wynik całki: 0.333400"
          ]
        }
      ],
      "source": [
        "%%sh\n",
        "cat > zadanie2.c << EOF\n",
        "#include <mpi.h>\n",
        "#include <stdio.h>\n",
        "\n",
        "\n",
        "double f(double x) {\n",
        "  return x*x;\n",
        "}\n",
        "\n",
        "int main(int argc, char *argv[]) {\n",
        "\n",
        "\n",
        "  int np,lp,n = 50;\n",
        "  double xp = 0.0;\n",
        "  double xk = 1.0;\n",
        "  double suma_fin;\n",
        "  double cal = 0.0;\n",
        "  double w = (xk-xp)/n;\n",
        "  double x;\n",
        "\n",
        "  MPI_Status status;\n",
        "  MPI_Init(&argc, &argv);\n",
        "  MPI_Comm_rank(MPI_COMM_WORLD, &np);\n",
        "  MPI_Comm_size(MPI_COMM_WORLD, &lp);\n",
        "\n",
        "\n",
        "  for (long i = np; i<n; i+=lp){\n",
        "    x = xp + i * w;\n",
        "    cal += f(x);\n",
        "  }\n",
        "  \n",
        "  MPI_Reduce(&cal, &suma_fin, 1, MPI_DOUBLE, MPI_SUM, 0, MPI_COMM_WORLD);\n",
        "  if (np == 0){\n",
        "    suma_fin += f(xp)/2;\n",
        "    suma_fin += f(xk)/2;\n",
        "    suma_fin *= w;\n",
        "    printf(\"Wynik całki: %f\", suma_fin);\n",
        "  }\n",
        "  MPI_Finalize();\n",
        "  return 0;\n",
        "}\n",
        "EOF\n",
        "mpicc zadanie2.c && mpirun -n 50 --allow-run-as-root a.out"
      ]
    }
  ]
}