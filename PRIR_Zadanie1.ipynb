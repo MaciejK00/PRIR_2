{
  "nbformat": 4,
  "nbformat_minor": 0,
  "metadata": {
    "colab": {
      "provenance": []
    },
    "kernelspec": {
      "name": "python3",
      "display_name": "Python 3"
    },
    "language_info": {
      "name": "python"
    }
  },
  "cells": [
    {
      "cell_type": "code",
      "execution_count": 1,
      "metadata": {
        "id": "rdh3d_vBVyY8",
        "outputId": "efa99ae1-1421-448f-8929-d08f23880bae",
        "colab": {
          "base_uri": "https://localhost:8080/"
        }
      },
      "outputs": [
        {
          "output_type": "stream",
          "name": "stdout",
          "text": [
            "PI wynosi 3.141583"
          ]
        }
      ],
      "source": [
        "%%sh\n",
        "cat > zadanie1.c << EOF\n",
        "#include <mpi.h>\n",
        "#include <stdio.h>\n",
        "int main(int argc, char *argv[])\n",
        "{\n",
        "  long max_iter = 100000;\n",
        "  double suma = 0.0;\n",
        "  double suma_fin;\n",
        "\n",
        "  int rank, size;\n",
        "  MPI_Init( &argc, &argv );\n",
        "  MPI_Comm_size( MPI_COMM_WORLD, &size );\n",
        "  MPI_Comm_rank( MPI_COMM_WORLD, &rank );\n",
        "\n",
        "\n",
        "  for (long i = rank; i< max_iter; i+=size){\n",
        "    double x = 1.0 / (2.0 * (double)i + 1);\n",
        "    if (i % 2 == 0){\n",
        "      suma += x;\n",
        "      } else { \n",
        "        suma -= x;\n",
        "    }\n",
        "  }\n",
        " \n",
        "  MPI_Reduce(&suma, &suma_fin, 1, MPI_DOUBLE, MPI_SUM, 0, MPI_COMM_WORLD);\n",
        "  if (rank == 0){\n",
        "    suma_fin = suma_fin * 4.0;\n",
        "    printf(\"PI wynosi %f\", suma_fin);\n",
        "  }\n",
        "  MPI_Finalize();\n",
        "  return 0;\n",
        "}\n",
        "EOF\n",
        "mpicc zadanie1.c && mpirun -n 4 --allow-run-as-root a.out"
      ]
    }
  ]
}